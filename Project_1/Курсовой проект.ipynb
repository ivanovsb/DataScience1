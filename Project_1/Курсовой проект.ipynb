{
 "cells": [
  {
   "cell_type": "markdown",
   "metadata": {},
   "source": [
    "# Курсовой проект для курса \"Python для Data Science\""
   ]
  },
  {
   "cell_type": "markdown",
   "metadata": {},
   "source": [
    "Автор: **Иванов Сергей**"
   ]
  },
  {
   "cell_type": "code",
   "execution_count": 594,
   "metadata": {},
   "outputs": [],
   "source": [
    "import numpy as np\n",
    "import pandas as pd\n",
    "import matplotlib.pyplot as plt\n",
    "import warnings\n",
    "\n",
    "%matplotlib inline\n",
    "warnings.filterwarnings('ignore')"
   ]
  },
  {
   "cell_type": "markdown",
   "metadata": {},
   "source": [
    "## Загрузка даных"
   ]
  },
  {
   "cell_type": "code",
   "execution_count": 595,
   "metadata": {},
   "outputs": [],
   "source": [
    "data = pd.read_csv('input/train.csv')"
   ]
  },
  {
   "cell_type": "code",
   "execution_count": 596,
   "metadata": {},
   "outputs": [],
   "source": [
    "test = pd.read_csv('input/test.csv')"
   ]
  },
  {
   "cell_type": "markdown",
   "metadata": {},
   "source": [
    "## Обработка данных"
   ]
  },
  {
   "cell_type": "code",
   "execution_count": 597,
   "metadata": {},
   "outputs": [],
   "source": [
    "from sklearn.model_selection import train_test_split"
   ]
  },
  {
   "cell_type": "code",
   "execution_count": 598,
   "metadata": {},
   "outputs": [],
   "source": [
    "train, valid = train_test_split(data, test_size=0.3, random_state=42)"
   ]
  },
  {
   "cell_type": "code",
   "execution_count": 599,
   "metadata": {},
   "outputs": [
    {
     "data": {
      "text/plain": [
       "((7000, 20), (3000, 20))"
      ]
     },
     "execution_count": 599,
     "metadata": {},
     "output_type": "execute_result"
    }
   ],
   "source": [
    "train.shape, valid.shape"
   ]
  },
  {
   "cell_type": "code",
   "execution_count": 600,
   "metadata": {},
   "outputs": [
    {
     "data": {
      "text/html": [
       "<div>\n",
       "<style scoped>\n",
       "    .dataframe tbody tr th:only-of-type {\n",
       "        vertical-align: middle;\n",
       "    }\n",
       "\n",
       "    .dataframe tbody tr th {\n",
       "        vertical-align: top;\n",
       "    }\n",
       "\n",
       "    .dataframe thead th {\n",
       "        text-align: right;\n",
       "    }\n",
       "</style>\n",
       "<table border=\"1\" class=\"dataframe\">\n",
       "  <thead>\n",
       "    <tr style=\"text-align: right;\">\n",
       "      <th></th>\n",
       "      <th>Id</th>\n",
       "      <th>DistrictId</th>\n",
       "      <th>Rooms</th>\n",
       "      <th>Square</th>\n",
       "      <th>LifeSquare</th>\n",
       "      <th>KitchenSquare</th>\n",
       "      <th>Floor</th>\n",
       "      <th>HouseFloor</th>\n",
       "      <th>HouseYear</th>\n",
       "      <th>Ecology_1</th>\n",
       "      <th>Social_1</th>\n",
       "      <th>Social_2</th>\n",
       "      <th>Social_3</th>\n",
       "      <th>Healthcare_1</th>\n",
       "      <th>Helthcare_2</th>\n",
       "      <th>Shops_1</th>\n",
       "      <th>Price</th>\n",
       "    </tr>\n",
       "  </thead>\n",
       "  <tbody>\n",
       "    <tr>\n",
       "      <th>count</th>\n",
       "      <td>7000.000000</td>\n",
       "      <td>7000.000000</td>\n",
       "      <td>7000.000000</td>\n",
       "      <td>7000.000000</td>\n",
       "      <td>5514.000000</td>\n",
       "      <td>7000.000000</td>\n",
       "      <td>7000.000000</td>\n",
       "      <td>7000.000000</td>\n",
       "      <td>7.000000e+03</td>\n",
       "      <td>7000.000000</td>\n",
       "      <td>7000.000000</td>\n",
       "      <td>7000.000000</td>\n",
       "      <td>7000.000000</td>\n",
       "      <td>3642.000000</td>\n",
       "      <td>7000.000000</td>\n",
       "      <td>7000.000000</td>\n",
       "      <td>7000.000000</td>\n",
       "    </tr>\n",
       "    <tr>\n",
       "      <th>mean</th>\n",
       "      <td>8386.061714</td>\n",
       "      <td>50.560857</td>\n",
       "      <td>1.889286</td>\n",
       "      <td>56.307485</td>\n",
       "      <td>37.523283</td>\n",
       "      <td>6.490714</td>\n",
       "      <td>8.521286</td>\n",
       "      <td>12.654571</td>\n",
       "      <td>4.849634e+03</td>\n",
       "      <td>0.117840</td>\n",
       "      <td>24.767571</td>\n",
       "      <td>5364.425714</td>\n",
       "      <td>8.044571</td>\n",
       "      <td>1133.876167</td>\n",
       "      <td>1.313143</td>\n",
       "      <td>4.260571</td>\n",
       "      <td>214449.167390</td>\n",
       "    </tr>\n",
       "    <tr>\n",
       "      <th>std</th>\n",
       "      <td>4864.141324</td>\n",
       "      <td>43.744178</td>\n",
       "      <td>0.843116</td>\n",
       "      <td>20.507466</td>\n",
       "      <td>102.071817</td>\n",
       "      <td>33.999713</td>\n",
       "      <td>5.222043</td>\n",
       "      <td>6.851357</td>\n",
       "      <td>2.396436e+05</td>\n",
       "      <td>0.118599</td>\n",
       "      <td>17.583889</td>\n",
       "      <td>4011.768297</td>\n",
       "      <td>23.869975</td>\n",
       "      <td>1018.354716</td>\n",
       "      <td>1.488326</td>\n",
       "      <td>4.825024</td>\n",
       "      <td>92924.798790</td>\n",
       "    </tr>\n",
       "    <tr>\n",
       "      <th>min</th>\n",
       "      <td>0.000000</td>\n",
       "      <td>0.000000</td>\n",
       "      <td>0.000000</td>\n",
       "      <td>2.377248</td>\n",
       "      <td>0.370619</td>\n",
       "      <td>0.000000</td>\n",
       "      <td>1.000000</td>\n",
       "      <td>0.000000</td>\n",
       "      <td>1.912000e+03</td>\n",
       "      <td>0.000000</td>\n",
       "      <td>0.000000</td>\n",
       "      <td>168.000000</td>\n",
       "      <td>0.000000</td>\n",
       "      <td>30.000000</td>\n",
       "      <td>0.000000</td>\n",
       "      <td>0.000000</td>\n",
       "      <td>59174.778028</td>\n",
       "    </tr>\n",
       "    <tr>\n",
       "      <th>25%</th>\n",
       "      <td>4176.500000</td>\n",
       "      <td>19.000000</td>\n",
       "      <td>1.000000</td>\n",
       "      <td>41.744710</td>\n",
       "      <td>22.766442</td>\n",
       "      <td>1.000000</td>\n",
       "      <td>4.000000</td>\n",
       "      <td>9.000000</td>\n",
       "      <td>1.974000e+03</td>\n",
       "      <td>0.017647</td>\n",
       "      <td>6.000000</td>\n",
       "      <td>1564.000000</td>\n",
       "      <td>0.000000</td>\n",
       "      <td>325.000000</td>\n",
       "      <td>0.000000</td>\n",
       "      <td>1.000000</td>\n",
       "      <td>154599.240157</td>\n",
       "    </tr>\n",
       "    <tr>\n",
       "      <th>50%</th>\n",
       "      <td>8398.500000</td>\n",
       "      <td>37.000000</td>\n",
       "      <td>2.000000</td>\n",
       "      <td>52.633656</td>\n",
       "      <td>32.868499</td>\n",
       "      <td>6.000000</td>\n",
       "      <td>7.000000</td>\n",
       "      <td>14.000000</td>\n",
       "      <td>1.977000e+03</td>\n",
       "      <td>0.075424</td>\n",
       "      <td>25.000000</td>\n",
       "      <td>5285.000000</td>\n",
       "      <td>2.000000</td>\n",
       "      <td>900.000000</td>\n",
       "      <td>1.000000</td>\n",
       "      <td>3.000000</td>\n",
       "      <td>192290.039215</td>\n",
       "    </tr>\n",
       "    <tr>\n",
       "      <th>75%</th>\n",
       "      <td>12562.000000</td>\n",
       "      <td>75.000000</td>\n",
       "      <td>2.000000</td>\n",
       "      <td>65.981105</td>\n",
       "      <td>45.121115</td>\n",
       "      <td>9.000000</td>\n",
       "      <td>12.000000</td>\n",
       "      <td>17.000000</td>\n",
       "      <td>2.001000e+03</td>\n",
       "      <td>0.194489</td>\n",
       "      <td>36.000000</td>\n",
       "      <td>7227.000000</td>\n",
       "      <td>5.000000</td>\n",
       "      <td>1548.000000</td>\n",
       "      <td>2.000000</td>\n",
       "      <td>6.000000</td>\n",
       "      <td>249080.956886</td>\n",
       "    </tr>\n",
       "    <tr>\n",
       "      <th>max</th>\n",
       "      <td>16796.000000</td>\n",
       "      <td>209.000000</td>\n",
       "      <td>19.000000</td>\n",
       "      <td>604.705972</td>\n",
       "      <td>7480.592129</td>\n",
       "      <td>2014.000000</td>\n",
       "      <td>42.000000</td>\n",
       "      <td>117.000000</td>\n",
       "      <td>2.005201e+07</td>\n",
       "      <td>0.521867</td>\n",
       "      <td>74.000000</td>\n",
       "      <td>19083.000000</td>\n",
       "      <td>141.000000</td>\n",
       "      <td>4849.000000</td>\n",
       "      <td>6.000000</td>\n",
       "      <td>23.000000</td>\n",
       "      <td>627525.072788</td>\n",
       "    </tr>\n",
       "  </tbody>\n",
       "</table>\n",
       "</div>"
      ],
      "text/plain": [
       "                 Id   DistrictId        Rooms       Square   LifeSquare  \\\n",
       "count   7000.000000  7000.000000  7000.000000  7000.000000  5514.000000   \n",
       "mean    8386.061714    50.560857     1.889286    56.307485    37.523283   \n",
       "std     4864.141324    43.744178     0.843116    20.507466   102.071817   \n",
       "min        0.000000     0.000000     0.000000     2.377248     0.370619   \n",
       "25%     4176.500000    19.000000     1.000000    41.744710    22.766442   \n",
       "50%     8398.500000    37.000000     2.000000    52.633656    32.868499   \n",
       "75%    12562.000000    75.000000     2.000000    65.981105    45.121115   \n",
       "max    16796.000000   209.000000    19.000000   604.705972  7480.592129   \n",
       "\n",
       "       KitchenSquare        Floor   HouseFloor     HouseYear    Ecology_1  \\\n",
       "count    7000.000000  7000.000000  7000.000000  7.000000e+03  7000.000000   \n",
       "mean        6.490714     8.521286    12.654571  4.849634e+03     0.117840   \n",
       "std        33.999713     5.222043     6.851357  2.396436e+05     0.118599   \n",
       "min         0.000000     1.000000     0.000000  1.912000e+03     0.000000   \n",
       "25%         1.000000     4.000000     9.000000  1.974000e+03     0.017647   \n",
       "50%         6.000000     7.000000    14.000000  1.977000e+03     0.075424   \n",
       "75%         9.000000    12.000000    17.000000  2.001000e+03     0.194489   \n",
       "max      2014.000000    42.000000   117.000000  2.005201e+07     0.521867   \n",
       "\n",
       "          Social_1      Social_2     Social_3  Healthcare_1  Helthcare_2  \\\n",
       "count  7000.000000   7000.000000  7000.000000   3642.000000  7000.000000   \n",
       "mean     24.767571   5364.425714     8.044571   1133.876167     1.313143   \n",
       "std      17.583889   4011.768297    23.869975   1018.354716     1.488326   \n",
       "min       0.000000    168.000000     0.000000     30.000000     0.000000   \n",
       "25%       6.000000   1564.000000     0.000000    325.000000     0.000000   \n",
       "50%      25.000000   5285.000000     2.000000    900.000000     1.000000   \n",
       "75%      36.000000   7227.000000     5.000000   1548.000000     2.000000   \n",
       "max      74.000000  19083.000000   141.000000   4849.000000     6.000000   \n",
       "\n",
       "           Shops_1          Price  \n",
       "count  7000.000000    7000.000000  \n",
       "mean      4.260571  214449.167390  \n",
       "std       4.825024   92924.798790  \n",
       "min       0.000000   59174.778028  \n",
       "25%       1.000000  154599.240157  \n",
       "50%       3.000000  192290.039215  \n",
       "75%       6.000000  249080.956886  \n",
       "max      23.000000  627525.072788  "
      ]
     },
     "execution_count": 600,
     "metadata": {},
     "output_type": "execute_result"
    }
   ],
   "source": [
    "train.describe()"
   ]
  },
  {
   "cell_type": "code",
   "execution_count": 601,
   "metadata": {},
   "outputs": [],
   "source": [
    "mean_price = train['Price'].mean()\n",
    "stat2 = train.groupby('Rooms', as_index=False)[['Price']].mean().rename(columns={'Price':'mean_price2'})"
   ]
  },
  {
   "cell_type": "code",
   "execution_count": 602,
   "metadata": {},
   "outputs": [],
   "source": [
    "\n",
    "def clean_rooms(df, source_df):\n",
    "    df.loc[df['Rooms'] > 6, 'Rooms'] = source_df['Rooms'].median()\n",
    "    df.loc[df['Rooms'] < 1, 'Rooms'] = source_df['Rooms'].median()\n",
    "    return df"
   ]
  },
  {
   "cell_type": "code",
   "execution_count": 603,
   "metadata": {},
   "outputs": [],
   "source": [
    "#train = clean_rooms(train, train)"
   ]
  },
  {
   "cell_type": "code",
   "execution_count": 604,
   "metadata": {},
   "outputs": [],
   "source": [
    "stat1 = train.groupby(['DistrictId', 'Rooms'], as_index=False)[['Price']].mean().rename(columns={'Price':'mean_price1'})\n",
    "stat3 = train.groupby(['Social_1', 'Rooms'], as_index=False)[['Price']].mean().rename(columns={'Price':'mean_price3'})"
   ]
  },
  {
   "cell_type": "code",
   "execution_count": 605,
   "metadata": {},
   "outputs": [],
   "source": [
    "def add_mean_price(df, stat1, stat2, stat3, mean_price):\n",
    "    df = pd.merge(df, stat1, on=['DistrictId', 'Rooms'], how='left')\n",
    "    df = pd.merge(df, stat2, on='Rooms', how='left')\n",
    "    df = pd.merge(df, stat3, on=['Social_1', 'Rooms'], how='left')\n",
    "    df['mean_price2'] = df['mean_price2'].fillna(mean_price)\n",
    "    df['mean_price1'] = df['mean_price1'].fillna(df['mean_price2'])\n",
    "    df['mean_price3'] = df['mean_price3'].fillna(df['mean_price2'])\n",
    "    return df"
   ]
  },
  {
   "cell_type": "code",
   "execution_count": 606,
   "metadata": {},
   "outputs": [],
   "source": [
    "def clean_square(df):\n",
    "    df.loc[df['KitchenSquare'] < 4, 'KitchenSquare'] = 4\n",
    "    df.loc[df['Square'] < 15, 'Square'] = 15\n",
    "    return df"
   ]
  },
  {
   "cell_type": "code",
   "execution_count": 607,
   "metadata": {},
   "outputs": [],
   "source": [
    "def prepare_data(df, source_df=train):\n",
    "    df = clean_rooms(df, source_df)\n",
    "    df = clean_square(df)\n",
    "    df = add_mean_price(df, stat1, stat2, stat3, mean_price)\n",
    "    return df"
   ]
  },
  {
   "cell_type": "code",
   "execution_count": 608,
   "metadata": {},
   "outputs": [],
   "source": [
    "train = prepare_data(train)"
   ]
  },
  {
   "cell_type": "code",
   "execution_count": 609,
   "metadata": {},
   "outputs": [
    {
     "data": {
      "text/html": [
       "<div>\n",
       "<style scoped>\n",
       "    .dataframe tbody tr th:only-of-type {\n",
       "        vertical-align: middle;\n",
       "    }\n",
       "\n",
       "    .dataframe tbody tr th {\n",
       "        vertical-align: top;\n",
       "    }\n",
       "\n",
       "    .dataframe thead th {\n",
       "        text-align: right;\n",
       "    }\n",
       "</style>\n",
       "<table border=\"1\" class=\"dataframe\">\n",
       "  <thead>\n",
       "    <tr style=\"text-align: right;\">\n",
       "      <th></th>\n",
       "      <th>Id</th>\n",
       "      <th>DistrictId</th>\n",
       "      <th>Rooms</th>\n",
       "      <th>Square</th>\n",
       "      <th>LifeSquare</th>\n",
       "      <th>KitchenSquare</th>\n",
       "      <th>Floor</th>\n",
       "      <th>HouseFloor</th>\n",
       "      <th>HouseYear</th>\n",
       "      <th>Ecology_1</th>\n",
       "      <th>Social_1</th>\n",
       "      <th>Social_2</th>\n",
       "      <th>Social_3</th>\n",
       "      <th>Healthcare_1</th>\n",
       "      <th>Helthcare_2</th>\n",
       "      <th>Shops_1</th>\n",
       "      <th>Price</th>\n",
       "      <th>mean_price1</th>\n",
       "      <th>mean_price2</th>\n",
       "      <th>mean_price3</th>\n",
       "    </tr>\n",
       "  </thead>\n",
       "  <tbody>\n",
       "    <tr>\n",
       "      <th>count</th>\n",
       "      <td>7000.000000</td>\n",
       "      <td>7000.000000</td>\n",
       "      <td>7000.000000</td>\n",
       "      <td>7000.000000</td>\n",
       "      <td>5514.000000</td>\n",
       "      <td>7000.000000</td>\n",
       "      <td>7000.000000</td>\n",
       "      <td>7000.000000</td>\n",
       "      <td>7.000000e+03</td>\n",
       "      <td>7000.000000</td>\n",
       "      <td>7000.000000</td>\n",
       "      <td>7000.000000</td>\n",
       "      <td>7000.000000</td>\n",
       "      <td>3642.000000</td>\n",
       "      <td>7000.000000</td>\n",
       "      <td>7000.000000</td>\n",
       "      <td>7000.000000</td>\n",
       "      <td>7000.000000</td>\n",
       "      <td>7000.000000</td>\n",
       "      <td>7000.000000</td>\n",
       "    </tr>\n",
       "    <tr>\n",
       "      <th>mean</th>\n",
       "      <td>8386.061714</td>\n",
       "      <td>50.560857</td>\n",
       "      <td>1.887143</td>\n",
       "      <td>56.318545</td>\n",
       "      <td>37.523283</td>\n",
       "      <td>7.507429</td>\n",
       "      <td>8.521286</td>\n",
       "      <td>12.654571</td>\n",
       "      <td>4.849634e+03</td>\n",
       "      <td>0.117840</td>\n",
       "      <td>24.767571</td>\n",
       "      <td>5364.425714</td>\n",
       "      <td>8.044571</td>\n",
       "      <td>1133.876167</td>\n",
       "      <td>1.313143</td>\n",
       "      <td>4.260571</td>\n",
       "      <td>214449.167390</td>\n",
       "      <td>214449.307057</td>\n",
       "      <td>214476.079913</td>\n",
       "      <td>214449.355558</td>\n",
       "    </tr>\n",
       "    <tr>\n",
       "      <th>std</th>\n",
       "      <td>4864.141324</td>\n",
       "      <td>43.744178</td>\n",
       "      <td>0.810599</td>\n",
       "      <td>20.482252</td>\n",
       "      <td>102.071817</td>\n",
       "      <td>33.860892</td>\n",
       "      <td>5.222043</td>\n",
       "      <td>6.851357</td>\n",
       "      <td>2.396436e+05</td>\n",
       "      <td>0.118599</td>\n",
       "      <td>17.583889</td>\n",
       "      <td>4011.768297</td>\n",
       "      <td>23.869975</td>\n",
       "      <td>1018.354716</td>\n",
       "      <td>1.488326</td>\n",
       "      <td>4.825024</td>\n",
       "      <td>92924.798790</td>\n",
       "      <td>75694.678480</td>\n",
       "      <td>53632.850289</td>\n",
       "      <td>66662.288601</td>\n",
       "    </tr>\n",
       "    <tr>\n",
       "      <th>min</th>\n",
       "      <td>0.000000</td>\n",
       "      <td>0.000000</td>\n",
       "      <td>1.000000</td>\n",
       "      <td>15.000000</td>\n",
       "      <td>0.370619</td>\n",
       "      <td>4.000000</td>\n",
       "      <td>1.000000</td>\n",
       "      <td>0.000000</td>\n",
       "      <td>1.912000e+03</td>\n",
       "      <td>0.000000</td>\n",
       "      <td>0.000000</td>\n",
       "      <td>168.000000</td>\n",
       "      <td>0.000000</td>\n",
       "      <td>30.000000</td>\n",
       "      <td>0.000000</td>\n",
       "      <td>0.000000</td>\n",
       "      <td>59174.778028</td>\n",
       "      <td>84250.557673</td>\n",
       "      <td>160134.810901</td>\n",
       "      <td>79182.682305</td>\n",
       "    </tr>\n",
       "    <tr>\n",
       "      <th>25%</th>\n",
       "      <td>4176.500000</td>\n",
       "      <td>19.000000</td>\n",
       "      <td>1.000000</td>\n",
       "      <td>41.744710</td>\n",
       "      <td>22.766442</td>\n",
       "      <td>4.000000</td>\n",
       "      <td>4.000000</td>\n",
       "      <td>9.000000</td>\n",
       "      <td>1.974000e+03</td>\n",
       "      <td>0.017647</td>\n",
       "      <td>6.000000</td>\n",
       "      <td>1564.000000</td>\n",
       "      <td>0.000000</td>\n",
       "      <td>325.000000</td>\n",
       "      <td>0.000000</td>\n",
       "      <td>1.000000</td>\n",
       "      <td>154599.240157</td>\n",
       "      <td>165911.129700</td>\n",
       "      <td>160134.810901</td>\n",
       "      <td>168764.538443</td>\n",
       "    </tr>\n",
       "    <tr>\n",
       "      <th>50%</th>\n",
       "      <td>8398.500000</td>\n",
       "      <td>37.000000</td>\n",
       "      <td>2.000000</td>\n",
       "      <td>52.633656</td>\n",
       "      <td>32.868499</td>\n",
       "      <td>6.000000</td>\n",
       "      <td>7.000000</td>\n",
       "      <td>14.000000</td>\n",
       "      <td>1.977000e+03</td>\n",
       "      <td>0.075424</td>\n",
       "      <td>25.000000</td>\n",
       "      <td>5285.000000</td>\n",
       "      <td>2.000000</td>\n",
       "      <td>900.000000</td>\n",
       "      <td>1.000000</td>\n",
       "      <td>3.000000</td>\n",
       "      <td>192290.039215</td>\n",
       "      <td>198197.383850</td>\n",
       "      <td>215287.628931</td>\n",
       "      <td>204300.402259</td>\n",
       "    </tr>\n",
       "    <tr>\n",
       "      <th>75%</th>\n",
       "      <td>12562.000000</td>\n",
       "      <td>75.000000</td>\n",
       "      <td>2.000000</td>\n",
       "      <td>65.981105</td>\n",
       "      <td>45.121115</td>\n",
       "      <td>9.000000</td>\n",
       "      <td>12.000000</td>\n",
       "      <td>17.000000</td>\n",
       "      <td>2.001000e+03</td>\n",
       "      <td>0.194489</td>\n",
       "      <td>36.000000</td>\n",
       "      <td>7227.000000</td>\n",
       "      <td>5.000000</td>\n",
       "      <td>1548.000000</td>\n",
       "      <td>2.000000</td>\n",
       "      <td>6.000000</td>\n",
       "      <td>249080.956886</td>\n",
       "      <td>249140.409925</td>\n",
       "      <td>215287.628931</td>\n",
       "      <td>250914.683106</td>\n",
       "    </tr>\n",
       "    <tr>\n",
       "      <th>max</th>\n",
       "      <td>16796.000000</td>\n",
       "      <td>209.000000</td>\n",
       "      <td>6.000000</td>\n",
       "      <td>604.705972</td>\n",
       "      <td>7480.592129</td>\n",
       "      <td>2014.000000</td>\n",
       "      <td>42.000000</td>\n",
       "      <td>117.000000</td>\n",
       "      <td>2.005201e+07</td>\n",
       "      <td>0.521867</td>\n",
       "      <td>74.000000</td>\n",
       "      <td>19083.000000</td>\n",
       "      <td>141.000000</td>\n",
       "      <td>4849.000000</td>\n",
       "      <td>6.000000</td>\n",
       "      <td>23.000000</td>\n",
       "      <td>627525.072788</td>\n",
       "      <td>595128.195352</td>\n",
       "      <td>386743.536446</td>\n",
       "      <td>585105.228671</td>\n",
       "    </tr>\n",
       "  </tbody>\n",
       "</table>\n",
       "</div>"
      ],
      "text/plain": [
       "                 Id   DistrictId        Rooms       Square   LifeSquare  \\\n",
       "count   7000.000000  7000.000000  7000.000000  7000.000000  5514.000000   \n",
       "mean    8386.061714    50.560857     1.887143    56.318545    37.523283   \n",
       "std     4864.141324    43.744178     0.810599    20.482252   102.071817   \n",
       "min        0.000000     0.000000     1.000000    15.000000     0.370619   \n",
       "25%     4176.500000    19.000000     1.000000    41.744710    22.766442   \n",
       "50%     8398.500000    37.000000     2.000000    52.633656    32.868499   \n",
       "75%    12562.000000    75.000000     2.000000    65.981105    45.121115   \n",
       "max    16796.000000   209.000000     6.000000   604.705972  7480.592129   \n",
       "\n",
       "       KitchenSquare        Floor   HouseFloor     HouseYear    Ecology_1  \\\n",
       "count    7000.000000  7000.000000  7000.000000  7.000000e+03  7000.000000   \n",
       "mean        7.507429     8.521286    12.654571  4.849634e+03     0.117840   \n",
       "std        33.860892     5.222043     6.851357  2.396436e+05     0.118599   \n",
       "min         4.000000     1.000000     0.000000  1.912000e+03     0.000000   \n",
       "25%         4.000000     4.000000     9.000000  1.974000e+03     0.017647   \n",
       "50%         6.000000     7.000000    14.000000  1.977000e+03     0.075424   \n",
       "75%         9.000000    12.000000    17.000000  2.001000e+03     0.194489   \n",
       "max      2014.000000    42.000000   117.000000  2.005201e+07     0.521867   \n",
       "\n",
       "          Social_1      Social_2     Social_3  Healthcare_1  Helthcare_2  \\\n",
       "count  7000.000000   7000.000000  7000.000000   3642.000000  7000.000000   \n",
       "mean     24.767571   5364.425714     8.044571   1133.876167     1.313143   \n",
       "std      17.583889   4011.768297    23.869975   1018.354716     1.488326   \n",
       "min       0.000000    168.000000     0.000000     30.000000     0.000000   \n",
       "25%       6.000000   1564.000000     0.000000    325.000000     0.000000   \n",
       "50%      25.000000   5285.000000     2.000000    900.000000     1.000000   \n",
       "75%      36.000000   7227.000000     5.000000   1548.000000     2.000000   \n",
       "max      74.000000  19083.000000   141.000000   4849.000000     6.000000   \n",
       "\n",
       "           Shops_1          Price    mean_price1    mean_price2    mean_price3  \n",
       "count  7000.000000    7000.000000    7000.000000    7000.000000    7000.000000  \n",
       "mean      4.260571  214449.167390  214449.307057  214476.079913  214449.355558  \n",
       "std       4.825024   92924.798790   75694.678480   53632.850289   66662.288601  \n",
       "min       0.000000   59174.778028   84250.557673  160134.810901   79182.682305  \n",
       "25%       1.000000  154599.240157  165911.129700  160134.810901  168764.538443  \n",
       "50%       3.000000  192290.039215  198197.383850  215287.628931  204300.402259  \n",
       "75%       6.000000  249080.956886  249140.409925  215287.628931  250914.683106  \n",
       "max      23.000000  627525.072788  595128.195352  386743.536446  585105.228671  "
      ]
     },
     "execution_count": 609,
     "metadata": {},
     "output_type": "execute_result"
    }
   ],
   "source": [
    "train.describe()"
   ]
  },
  {
   "cell_type": "code",
   "execution_count": 610,
   "metadata": {},
   "outputs": [],
   "source": [
    "valid = prepare_data(valid)"
   ]
  },
  {
   "cell_type": "code",
   "execution_count": 611,
   "metadata": {},
   "outputs": [
    {
     "data": {
      "text/html": [
       "<div>\n",
       "<style scoped>\n",
       "    .dataframe tbody tr th:only-of-type {\n",
       "        vertical-align: middle;\n",
       "    }\n",
       "\n",
       "    .dataframe tbody tr th {\n",
       "        vertical-align: top;\n",
       "    }\n",
       "\n",
       "    .dataframe thead th {\n",
       "        text-align: right;\n",
       "    }\n",
       "</style>\n",
       "<table border=\"1\" class=\"dataframe\">\n",
       "  <thead>\n",
       "    <tr style=\"text-align: right;\">\n",
       "      <th></th>\n",
       "      <th>Id</th>\n",
       "      <th>DistrictId</th>\n",
       "      <th>Rooms</th>\n",
       "      <th>Square</th>\n",
       "      <th>LifeSquare</th>\n",
       "      <th>KitchenSquare</th>\n",
       "      <th>Floor</th>\n",
       "      <th>HouseFloor</th>\n",
       "      <th>HouseYear</th>\n",
       "      <th>Ecology_1</th>\n",
       "      <th>Social_1</th>\n",
       "      <th>Social_2</th>\n",
       "      <th>Social_3</th>\n",
       "      <th>Healthcare_1</th>\n",
       "      <th>Helthcare_2</th>\n",
       "      <th>Shops_1</th>\n",
       "      <th>Price</th>\n",
       "      <th>mean_price1</th>\n",
       "      <th>mean_price2</th>\n",
       "      <th>mean_price3</th>\n",
       "    </tr>\n",
       "  </thead>\n",
       "  <tbody>\n",
       "    <tr>\n",
       "      <th>count</th>\n",
       "      <td>3000.000000</td>\n",
       "      <td>3000.000000</td>\n",
       "      <td>3000.000000</td>\n",
       "      <td>3000.000000</td>\n",
       "      <td>2373.000000</td>\n",
       "      <td>3000.000000</td>\n",
       "      <td>3000.000000</td>\n",
       "      <td>3000.000000</td>\n",
       "      <td>3000.000000</td>\n",
       "      <td>3000.000000</td>\n",
       "      <td>3000.000000</td>\n",
       "      <td>3000.000000</td>\n",
       "      <td>3000.000000</td>\n",
       "      <td>1560.000000</td>\n",
       "      <td>3000.000000</td>\n",
       "      <td>3000.000000</td>\n",
       "      <td>3000.000000</td>\n",
       "      <td>3000.000000</td>\n",
       "      <td>3000.000000</td>\n",
       "      <td>3000.000000</td>\n",
       "    </tr>\n",
       "    <tr>\n",
       "      <th>mean</th>\n",
       "      <td>8377.215000</td>\n",
       "      <td>50.027333</td>\n",
       "      <td>1.892667</td>\n",
       "      <td>56.354915</td>\n",
       "      <td>36.447625</td>\n",
       "      <td>6.793000</td>\n",
       "      <td>8.539333</td>\n",
       "      <td>12.504000</td>\n",
       "      <td>1984.741667</td>\n",
       "      <td>0.121232</td>\n",
       "      <td>24.499000</td>\n",
       "      <td>5323.531333</td>\n",
       "      <td>8.026667</td>\n",
       "      <td>1163.982051</td>\n",
       "      <td>1.334333</td>\n",
       "      <td>4.163000</td>\n",
       "      <td>213414.800753</td>\n",
       "      <td>212591.047039</td>\n",
       "      <td>214932.453389</td>\n",
       "      <td>214782.495876</td>\n",
       "    </tr>\n",
       "    <tr>\n",
       "      <th>std</th>\n",
       "      <td>4847.850029</td>\n",
       "      <td>43.224970</td>\n",
       "      <td>0.815701</td>\n",
       "      <td>22.253465</td>\n",
       "      <td>22.609294</td>\n",
       "      <td>3.674958</td>\n",
       "      <td>5.286313</td>\n",
       "      <td>6.596652</td>\n",
       "      <td>18.649795</td>\n",
       "      <td>0.119999</td>\n",
       "      <td>17.413857</td>\n",
       "      <td>3995.703779</td>\n",
       "      <td>23.746703</td>\n",
       "      <td>1028.882144</td>\n",
       "      <td>1.505980</td>\n",
       "      <td>4.762561</td>\n",
       "      <td>92761.108274</td>\n",
       "      <td>72592.046406</td>\n",
       "      <td>54134.921733</td>\n",
       "      <td>66943.264542</td>\n",
       "    </tr>\n",
       "    <tr>\n",
       "      <th>min</th>\n",
       "      <td>2.000000</td>\n",
       "      <td>0.000000</td>\n",
       "      <td>1.000000</td>\n",
       "      <td>15.000000</td>\n",
       "      <td>1.185864</td>\n",
       "      <td>4.000000</td>\n",
       "      <td>1.000000</td>\n",
       "      <td>0.000000</td>\n",
       "      <td>1910.000000</td>\n",
       "      <td>0.000000</td>\n",
       "      <td>0.000000</td>\n",
       "      <td>168.000000</td>\n",
       "      <td>0.000000</td>\n",
       "      <td>0.000000</td>\n",
       "      <td>0.000000</td>\n",
       "      <td>0.000000</td>\n",
       "      <td>59877.592523</td>\n",
       "      <td>102427.030975</td>\n",
       "      <td>160134.810901</td>\n",
       "      <td>79182.682305</td>\n",
       "    </tr>\n",
       "    <tr>\n",
       "      <th>25%</th>\n",
       "      <td>4153.750000</td>\n",
       "      <td>21.000000</td>\n",
       "      <td>1.000000</td>\n",
       "      <td>41.835804</td>\n",
       "      <td>22.779571</td>\n",
       "      <td>4.000000</td>\n",
       "      <td>4.000000</td>\n",
       "      <td>9.000000</td>\n",
       "      <td>1973.000000</td>\n",
       "      <td>0.019509</td>\n",
       "      <td>6.000000</td>\n",
       "      <td>1564.000000</td>\n",
       "      <td>0.000000</td>\n",
       "      <td>520.000000</td>\n",
       "      <td>0.000000</td>\n",
       "      <td>1.000000</td>\n",
       "      <td>151954.236807</td>\n",
       "      <td>165375.032606</td>\n",
       "      <td>160134.810901</td>\n",
       "      <td>172206.624502</td>\n",
       "    </tr>\n",
       "    <tr>\n",
       "      <th>50%</th>\n",
       "      <td>8390.500000</td>\n",
       "      <td>34.000000</td>\n",
       "      <td>2.000000</td>\n",
       "      <td>52.112074</td>\n",
       "      <td>32.608868</td>\n",
       "      <td>6.000000</td>\n",
       "      <td>7.000000</td>\n",
       "      <td>12.000000</td>\n",
       "      <td>1977.000000</td>\n",
       "      <td>0.075779</td>\n",
       "      <td>25.000000</td>\n",
       "      <td>5285.000000</td>\n",
       "      <td>2.000000</td>\n",
       "      <td>990.000000</td>\n",
       "      <td>1.000000</td>\n",
       "      <td>3.000000</td>\n",
       "      <td>192054.173699</td>\n",
       "      <td>196127.883044</td>\n",
       "      <td>215287.628931</td>\n",
       "      <td>205788.951070</td>\n",
       "    </tr>\n",
       "    <tr>\n",
       "      <th>75%</th>\n",
       "      <td>12656.250000</td>\n",
       "      <td>74.000000</td>\n",
       "      <td>2.000000</td>\n",
       "      <td>65.761977</td>\n",
       "      <td>45.146101</td>\n",
       "      <td>9.000000</td>\n",
       "      <td>12.000000</td>\n",
       "      <td>17.000000</td>\n",
       "      <td>2002.000000</td>\n",
       "      <td>0.195781</td>\n",
       "      <td>35.000000</td>\n",
       "      <td>7227.000000</td>\n",
       "      <td>5.000000</td>\n",
       "      <td>1548.000000</td>\n",
       "      <td>3.000000</td>\n",
       "      <td>5.000000</td>\n",
       "      <td>250052.147507</td>\n",
       "      <td>247145.388423</td>\n",
       "      <td>215287.628931</td>\n",
       "      <td>250914.683106</td>\n",
       "    </tr>\n",
       "    <tr>\n",
       "      <th>max</th>\n",
       "      <td>16798.000000</td>\n",
       "      <td>208.000000</td>\n",
       "      <td>5.000000</td>\n",
       "      <td>641.065193</td>\n",
       "      <td>638.163193</td>\n",
       "      <td>75.000000</td>\n",
       "      <td>37.000000</td>\n",
       "      <td>48.000000</td>\n",
       "      <td>2020.000000</td>\n",
       "      <td>0.521867</td>\n",
       "      <td>74.000000</td>\n",
       "      <td>19083.000000</td>\n",
       "      <td>141.000000</td>\n",
       "      <td>4849.000000</td>\n",
       "      <td>6.000000</td>\n",
       "      <td>23.000000</td>\n",
       "      <td>633233.466570</td>\n",
       "      <td>561260.913003</td>\n",
       "      <td>386743.536446</td>\n",
       "      <td>559886.965348</td>\n",
       "    </tr>\n",
       "  </tbody>\n",
       "</table>\n",
       "</div>"
      ],
      "text/plain": [
       "                 Id   DistrictId        Rooms       Square   LifeSquare  \\\n",
       "count   3000.000000  3000.000000  3000.000000  3000.000000  2373.000000   \n",
       "mean    8377.215000    50.027333     1.892667    56.354915    36.447625   \n",
       "std     4847.850029    43.224970     0.815701    22.253465    22.609294   \n",
       "min        2.000000     0.000000     1.000000    15.000000     1.185864   \n",
       "25%     4153.750000    21.000000     1.000000    41.835804    22.779571   \n",
       "50%     8390.500000    34.000000     2.000000    52.112074    32.608868   \n",
       "75%    12656.250000    74.000000     2.000000    65.761977    45.146101   \n",
       "max    16798.000000   208.000000     5.000000   641.065193   638.163193   \n",
       "\n",
       "       KitchenSquare        Floor   HouseFloor    HouseYear    Ecology_1  \\\n",
       "count    3000.000000  3000.000000  3000.000000  3000.000000  3000.000000   \n",
       "mean        6.793000     8.539333    12.504000  1984.741667     0.121232   \n",
       "std         3.674958     5.286313     6.596652    18.649795     0.119999   \n",
       "min         4.000000     1.000000     0.000000  1910.000000     0.000000   \n",
       "25%         4.000000     4.000000     9.000000  1973.000000     0.019509   \n",
       "50%         6.000000     7.000000    12.000000  1977.000000     0.075779   \n",
       "75%         9.000000    12.000000    17.000000  2002.000000     0.195781   \n",
       "max        75.000000    37.000000    48.000000  2020.000000     0.521867   \n",
       "\n",
       "          Social_1      Social_2     Social_3  Healthcare_1  Helthcare_2  \\\n",
       "count  3000.000000   3000.000000  3000.000000   1560.000000  3000.000000   \n",
       "mean     24.499000   5323.531333     8.026667   1163.982051     1.334333   \n",
       "std      17.413857   3995.703779    23.746703   1028.882144     1.505980   \n",
       "min       0.000000    168.000000     0.000000      0.000000     0.000000   \n",
       "25%       6.000000   1564.000000     0.000000    520.000000     0.000000   \n",
       "50%      25.000000   5285.000000     2.000000    990.000000     1.000000   \n",
       "75%      35.000000   7227.000000     5.000000   1548.000000     3.000000   \n",
       "max      74.000000  19083.000000   141.000000   4849.000000     6.000000   \n",
       "\n",
       "           Shops_1          Price    mean_price1    mean_price2    mean_price3  \n",
       "count  3000.000000    3000.000000    3000.000000    3000.000000    3000.000000  \n",
       "mean      4.163000  213414.800753  212591.047039  214932.453389  214782.495876  \n",
       "std       4.762561   92761.108274   72592.046406   54134.921733   66943.264542  \n",
       "min       0.000000   59877.592523  102427.030975  160134.810901   79182.682305  \n",
       "25%       1.000000  151954.236807  165375.032606  160134.810901  172206.624502  \n",
       "50%       3.000000  192054.173699  196127.883044  215287.628931  205788.951070  \n",
       "75%       5.000000  250052.147507  247145.388423  215287.628931  250914.683106  \n",
       "max      23.000000  633233.466570  561260.913003  386743.536446  559886.965348  "
      ]
     },
     "execution_count": 611,
     "metadata": {},
     "output_type": "execute_result"
    }
   ],
   "source": [
    "valid.describe()"
   ]
  },
  {
   "cell_type": "code",
   "execution_count": 612,
   "metadata": {},
   "outputs": [],
   "source": [
    "import seaborn as sns"
   ]
  },
  {
   "cell_type": "code",
   "execution_count": 613,
   "metadata": {},
   "outputs": [],
   "source": [
    "# корреляция признаков с целевым показателем\n",
    "# Наибольшая корреляция с количеством комнат, площадью"
   ]
  },
  {
   "cell_type": "code",
   "execution_count": 614,
   "metadata": {},
   "outputs": [
    {
     "data": {
      "text/plain": [
       "<matplotlib.axes._subplots.AxesSubplot at 0x1fc6bf50>"
      ]
     },
     "execution_count": 614,
     "metadata": {},
     "output_type": "execute_result"
    },
    {
     "data": {
      "image/png": "[encoded data removed]",
      "text/plain": [
       "<Figure size 1008x720 with 2 Axes>"
      ]
     },
     "metadata": {
      "needs_background": "light"
     },
     "output_type": "display_data"
    }
   ],
   "source": [
    "plt.rcParams['figure.figsize'] = (14.0, 10.0)\n",
    "corr = train.corr()\n",
    "sns.heatmap(corr)"
   ]
  },
  {
   "cell_type": "code",
   "execution_count": 615,
   "metadata": {},
   "outputs": [
    {
     "name": "stdout",
     "output_type": "stream",
     "text": [
      "Price           1.000000\n",
      "mean_price1     0.814615\n",
      "mean_price3     0.717471\n",
      "mean_price2     0.577160\n",
      "Rooms           0.571906\n",
      "Square          0.536632\n",
      "Social_1        0.265278\n",
      "DistrictId      0.264105\n",
      "Helthcare_2     0.253601\n",
      "Social_2        0.240089\n",
      "Shops_1         0.183545\n",
      "Healthcare_1    0.131895\n",
      "Floor           0.126098\n",
      "HouseFloor      0.089321\n",
      "Social_3        0.076234\n",
      "Name: Price, dtype: float64 \n",
      "\n",
      "----------------------\n",
      "LifeSquare       0.072096\n",
      "Id               0.019332\n",
      "KitchenSquare    0.010375\n",
      "HouseYear        0.005102\n",
      "Ecology_1       -0.064129\n",
      "Name: Price, dtype: float64\n"
     ]
    }
   ],
   "source": [
    "print (corr['Price'].sort_values(ascending=False)[:15], '\\n') #top 15 values\n",
    "print ('----------------------')\n",
    "print (corr['Price'].sort_values(ascending=False)[-5:]) #last 5 values`"
   ]
  },
  {
   "cell_type": "markdown",
   "metadata": {},
   "source": [
    "## Построение модели"
   ]
  },
  {
   "cell_type": "markdown",
   "metadata": {},
   "source": [
    "### Модель"
   ]
  },
  {
   "cell_type": "code",
   "execution_count": 616,
   "metadata": {},
   "outputs": [],
   "source": [
    "from sklearn.ensemble import RandomForestRegressor as RF"
   ]
  },
  {
   "cell_type": "code",
   "execution_count": 617,
   "metadata": {},
   "outputs": [],
   "source": [
    "model = RF(n_estimators=1000, max_depth=11, min_samples_leaf=2, random_state=42)"
   ]
  },
  {
   "cell_type": "code",
   "execution_count": 618,
   "metadata": {},
   "outputs": [],
   "source": [
    "feats = ['Square', 'Rooms', 'mean_price1', 'mean_price3', 'Social_1', 'DistrictId', 'Helthcare_2', 'Social_2','Shops_1']"
   ]
  },
  {
   "cell_type": "code",
   "execution_count": 619,
   "metadata": {},
   "outputs": [
    {
     "data": {
      "text/plain": [
       "RandomForestRegressor(bootstrap=True, criterion='mse', max_depth=11,\n",
       "           max_features='auto', max_leaf_nodes=None,\n",
       "           min_impurity_decrease=0.0, min_impurity_split=None,\n",
       "           min_samples_leaf=2, min_samples_split=2,\n",
       "           min_weight_fraction_leaf=0.0, n_estimators=1000, n_jobs=None,\n",
       "           oob_score=False, random_state=42, verbose=0, warm_start=False)"
      ]
     },
     "execution_count": 619,
     "metadata": {},
     "output_type": "execute_result"
    }
   ],
   "source": [
    "model.fit(train.loc[:, feats], train['Price'])"
   ]
  },
  {
   "cell_type": "markdown",
   "metadata": {},
   "source": [
    "### Оценка результатов моделирования"
   ]
  },
  {
   "cell_type": "code",
   "execution_count": 620,
   "metadata": {},
   "outputs": [],
   "source": [
    "from sklearn.metrics import r2_score as r2"
   ]
  },
  {
   "cell_type": "code",
   "execution_count": 621,
   "metadata": {},
   "outputs": [],
   "source": [
    "def evaluate_model(df, model=model, feats=feats, check_r2='Yes'):\n",
    "    pred = model.predict(df.loc[:, feats])\n",
    "    if check_r2 == 'Yes':\n",
    "        r2_ = r2(df['Price'], pred)\n",
    "        print(f'Коэф. детерминации R2: {r2_}')\n",
    "    return pred"
   ]
  },
  {
   "cell_type": "code",
   "execution_count": 622,
   "metadata": {},
   "outputs": [
    {
     "name": "stdout",
     "output_type": "stream",
     "text": [
      "Коэф. детерминации R2: 0.8775518636309275\n"
     ]
    }
   ],
   "source": [
    "pred_train = evaluate_model(train)"
   ]
  },
  {
   "cell_type": "code",
   "execution_count": 623,
   "metadata": {},
   "outputs": [
    {
     "name": "stdout",
     "output_type": "stream",
     "text": [
      "Коэф. детерминации R2: 0.6781343388994757\n"
     ]
    }
   ],
   "source": [
    "pred_train = evaluate_model(valid)"
   ]
  },
  {
   "cell_type": "code",
   "execution_count": 624,
   "metadata": {},
   "outputs": [],
   "source": [
    "# Визуальное отображение качества моделирования"
   ]
  },
  {
   "cell_type": "code",
   "execution_count": 625,
   "metadata": {},
   "outputs": [
    {
     "data": {
      "image/png": "[encoded data removed]",
      "text/plain": [
       "<Figure size 1008x720 with 1 Axes>"
      ]
     },
     "metadata": {
      "needs_background": "light"
     },
     "output_type": "display_data"
    }
   ],
   "source": [
    "fig, ax = plt.subplots()\n",
    "ax.scatter(valid['Price'], pred_valid, edgecolors=(0, 0, 0))\n",
    "ax.plot([valid['Price'].min(), valid['Price'].max()], [valid['Price'].min(), valid['Price'].max()], 'k--', lw=4)\n",
    "ax.set_xlabel('Цена реальная')\n",
    "ax.set_ylabel('Цена прогноз')\n",
    "ax.set_title(\"График\")\n",
    "plt.show()"
   ]
  },
  {
   "cell_type": "markdown",
   "metadata": {},
   "source": [
    "# Прогнозирование цен из файла test.csv"
   ]
  },
  {
   "cell_type": "code",
   "execution_count": 626,
   "metadata": {},
   "outputs": [],
   "source": [
    "test = pd.read_csv('input/test.csv')"
   ]
  },
  {
   "cell_type": "code",
   "execution_count": 627,
   "metadata": {},
   "outputs": [],
   "source": [
    "test = prepare_data(test)"
   ]
  },
  {
   "cell_type": "code",
   "execution_count": 628,
   "metadata": {},
   "outputs": [],
   "source": [
    "test['Price']  = evaluate_model(test, check_r2='No')"
   ]
  },
  {
   "cell_type": "code",
   "execution_count": 629,
   "metadata": {},
   "outputs": [],
   "source": [
    "test.loc[:, ['Id', 'Price']].to_csv('SIvanov_predictions.csv', index=None)"
   ]
  }
 ],
 "metadata": {
  "kernelspec": {
   "display_name": "Python 3",
   "language": "python",
   "name": "python3"
  },
  "language_info": {
   "codemirror_mode": {
    "name": "ipython",
    "version": 3
   },
   "file_extension": ".py",
   "mimetype": "text/x-python",
   "name": "python",
   "nbconvert_exporter": "python",
   "pygments_lexer": "ipython3",
   "version": "3.7.2"
  }
 },
 "nbformat": 4,
 "nbformat_minor": 2
}
